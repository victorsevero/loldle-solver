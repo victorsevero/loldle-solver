{
 "cells": [
  {
   "cell_type": "code",
   "execution_count": 1,
   "metadata": {},
   "outputs": [],
   "source": [
    "import matplotlib.pyplot as plt\n",
    "import seaborn as sns\n",
    "from tqdm.notebook import tqdm\n",
    "\n",
    "from loldle_solver.solver import Solver\n",
    "\n",
    "\n",
    "sns.set_theme()\n",
    "plt.rcParams[\"figure.figsize\"] = (20, 4)"
   ]
  },
  {
   "cell_type": "code",
   "execution_count": 2,
   "metadata": {},
   "outputs": [],
   "source": [
    "solver = Solver()"
   ]
  },
  {
   "cell_type": "code",
   "execution_count": 3,
   "metadata": {},
   "outputs": [],
   "source": [
    "def get_best_guess():\n",
    "    entropies = {}\n",
    "    for champion in tqdm(solver.df[\"name\"]):\n",
    "        entropies[champion] = solver.get_champion_entropy(champion)\n",
    "    entropies = {\n",
    "        k: v\n",
    "        for k, v in sorted(\n",
    "            entropies.items(),\n",
    "            key=lambda item: item[1],\n",
    "            reverse=True,\n",
    "        )\n",
    "    }\n",
    "\n",
    "    guess = list(entropies.items())[0][0]\n",
    "    return guess"
   ]
  },
  {
   "cell_type": "code",
   "execution_count": 4,
   "metadata": {},
   "outputs": [
    {
     "data": {
      "text/plain": [
       "['name',\n",
       " 'gender',\n",
       " 'position',\n",
       " 'species',\n",
       " 'resource',\n",
       " 'range',\n",
       " 'region',\n",
       " 'release']"
      ]
     },
     "execution_count": 4,
     "metadata": {},
     "output_type": "execute_result"
    }
   ],
   "source": [
    "solver.df.columns"
   ]
  },
  {
   "cell_type": "code",
   "execution_count": 4,
   "metadata": {},
   "outputs": [
    {
     "data": {
      "application/vnd.jupyter.widget-view+json": {
       "model_id": "f82970c64b384be8bd9d00a57e1aec14",
       "version_major": 2,
       "version_minor": 0
      },
      "text/plain": [
       "  0%|          | 0/166 [00:00<?, ?it/s]"
      ]
     },
     "metadata": {},
     "output_type": "display_data"
    },
    {
     "data": {
      "text/plain": [
       "'Xin Zhao'"
      ]
     },
     "execution_count": 4,
     "metadata": {},
     "output_type": "execute_result"
    }
   ],
   "source": [
    "guess = get_best_guess()\n",
    "guess"
   ]
  },
  {
   "cell_type": "code",
   "execution_count": 5,
   "metadata": {},
   "outputs": [
    {
     "data": {
      "application/vnd.jupyter.widget-view+json": {
       "model_id": "207845cc6875453e954ad9012f6b6dde",
       "version_major": 2,
       "version_minor": 0
      },
      "text/plain": [
       "  0%|          | 0/4 [00:00<?, ?it/s]"
      ]
     },
     "metadata": {},
     "output_type": "display_data"
    },
    {
     "data": {
      "text/plain": [
       "'Malphite'"
      ]
     },
     "execution_count": 5,
     "metadata": {},
     "output_type": "execute_result"
    }
   ],
   "source": [
    "solver.update_df_with_guess(guess, [1, 0, 0, 1, 1, 0, -1])\n",
    "guess = get_best_guess()\n",
    "guess"
   ]
  },
  {
   "cell_type": "code",
   "execution_count": 7,
   "metadata": {},
   "outputs": [
    {
     "data": {
      "application/vnd.jupyter.widget-view+json": {
       "model_id": "5b076bc9aae64a95a74c49d222827c45",
       "version_major": 2,
       "version_minor": 0
      },
      "text/plain": [
       "  0%|          | 0/1 [00:00<?, ?it/s]"
      ]
     },
     "metadata": {},
     "output_type": "display_data"
    },
    {
     "data": {
      "text/plain": [
       "'Nilah'"
      ]
     },
     "execution_count": 7,
     "metadata": {},
     "output_type": "execute_result"
    }
   ],
   "source": [
    "solver.update_df_with_guess(guess, [1, 0, 0.5, 1, 1, 1, 1])\n",
    "guess = get_best_guess()\n",
    "guess"
   ]
  },
  {
   "cell_type": "code",
   "execution_count": 6,
   "metadata": {},
   "outputs": [
    {
     "data": {
      "text/html": [
       "<div><style>\n",
       ".dataframe > thead > tr,\n",
       ".dataframe > tbody > tr {\n",
       "  text-align: right;\n",
       "  white-space: pre-wrap;\n",
       "}\n",
       "</style>\n",
       "<small>shape: (4, 8)</small><table border=\"1\" class=\"dataframe\"><thead><tr><th>name</th><th>gender</th><th>position</th><th>species</th><th>resource</th><th>range</th><th>region</th><th>release</th></tr><tr><td>str</td><td>str</td><td>list[str]</td><td>list[str]</td><td>str</td><td>list[str]</td><td>list[str]</td><td>i64</td></tr></thead><tbody><tr><td>&quot;Alistar&quot;</td><td>&quot;Male&quot;</td><td>[&quot;Support&quot;]</td><td>[&quot;Minotaur&quot;]</td><td>&quot;Mana&quot;</td><td>[&quot;Melee&quot;]</td><td>[&quot;Runeterra&quot;]</td><td>2009</td></tr><tr><td>&quot;Malphite&quot;</td><td>&quot;Male&quot;</td><td>[&quot;Top&quot;]</td><td>[&quot;Golem&quot;]</td><td>&quot;Mana&quot;</td><td>[&quot;Melee&quot;]</td><td>[&quot;Ixtal&quot;, &quot;Shurima&quot;]</td><td>2009</td></tr><tr><td>&quot;Nasus&quot;</td><td>&quot;Male&quot;</td><td>[&quot;Top&quot;]</td><td>[&quot;God-Warrior&quot;]</td><td>&quot;Mana&quot;</td><td>[&quot;Melee&quot;]</td><td>[&quot;Shurima&quot;]</td><td>2009</td></tr><tr><td>&quot;Cho&#x27;Gath&quot;</td><td>&quot;Male&quot;</td><td>[&quot;Top&quot;]</td><td>[&quot;Void-Being&quot;]</td><td>&quot;Mana&quot;</td><td>[&quot;Melee&quot;]</td><td>[&quot;Void&quot;]</td><td>2009</td></tr></tbody></table></div>"
      ],
      "text/plain": [
       "shape: (4, 8)\n",
       "┌──────────┬────────┬─────────────┬───────────────┬──────────┬───────────┬───────────────┬─────────┐\n",
       "│ name     ┆ gender ┆ position    ┆ species       ┆ resource ┆ range     ┆ region        ┆ release │\n",
       "│ ---      ┆ ---    ┆ ---         ┆ ---           ┆ ---      ┆ ---       ┆ ---           ┆ ---     │\n",
       "│ str      ┆ str    ┆ list[str]   ┆ list[str]     ┆ str      ┆ list[str] ┆ list[str]     ┆ i64     │\n",
       "╞══════════╪════════╪═════════════╪═══════════════╪══════════╪═══════════╪═══════════════╪═════════╡\n",
       "│ Alistar  ┆ Male   ┆ [\"Support\"] ┆ [\"Minotaur\"]  ┆ Mana     ┆ [\"Melee\"] ┆ [\"Runeterra\"] ┆ 2009    │\n",
       "│ Malphite ┆ Male   ┆ [\"Top\"]     ┆ [\"Golem\"]     ┆ Mana     ┆ [\"Melee\"] ┆ [\"Ixtal\",     ┆ 2009    │\n",
       "│          ┆        ┆             ┆               ┆          ┆           ┆ \"Shurima\"]    ┆         │\n",
       "│ Nasus    ┆ Male   ┆ [\"Top\"]     ┆ [\"God-Warrior ┆ Mana     ┆ [\"Melee\"] ┆ [\"Shurima\"]   ┆ 2009    │\n",
       "│          ┆        ┆             ┆ \"]            ┆          ┆           ┆               ┆         │\n",
       "│ Cho'Gath ┆ Male   ┆ [\"Top\"]     ┆ [\"Void-Being\" ┆ Mana     ┆ [\"Melee\"] ┆ [\"Void\"]      ┆ 2009    │\n",
       "│          ┆        ┆             ┆ ]             ┆          ┆           ┆               ┆         │\n",
       "└──────────┴────────┴─────────────┴───────────────┴──────────┴───────────┴───────────────┴─────────┘"
      ]
     },
     "execution_count": 6,
     "metadata": {},
     "output_type": "execute_result"
    }
   ],
   "source": [
    "solver.df"
   ]
  }
 ],
 "metadata": {
  "kernelspec": {
   "display_name": "loldle-solver-LB2b-er5-py3.11",
   "language": "python",
   "name": "python3"
  },
  "language_info": {
   "codemirror_mode": {
    "name": "ipython",
    "version": 3
   },
   "file_extension": ".py",
   "mimetype": "text/x-python",
   "name": "python",
   "nbconvert_exporter": "python",
   "pygments_lexer": "ipython3",
   "version": "3.11.5"
  }
 },
 "nbformat": 4,
 "nbformat_minor": 2
}
