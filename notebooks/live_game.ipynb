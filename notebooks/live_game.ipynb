{
 "cells": [
  {
   "cell_type": "code",
   "execution_count": 1,
   "metadata": {},
   "outputs": [],
   "source": [
    "import matplotlib.pyplot as plt\n",
    "import seaborn as sns\n",
    "from tqdm.notebook import tqdm\n",
    "\n",
    "from loldle_solver.solver import Solver\n",
    "\n",
    "\n",
    "sns.set_theme()\n",
    "plt.rcParams[\"figure.figsize\"] = (20, 4)"
   ]
  },
  {
   "cell_type": "code",
   "execution_count": 2,
   "metadata": {},
   "outputs": [],
   "source": [
    "solver = Solver()"
   ]
  },
  {
   "cell_type": "code",
   "execution_count": 3,
   "metadata": {},
   "outputs": [],
   "source": [
    "def get_best_guess():\n",
    "    entropies = {}\n",
    "    for champion in tqdm(solver.df[\"name\"]):\n",
    "        entropies[champion] = solver.get_champion_entropy(champion)\n",
    "    entropies = {\n",
    "        k: v\n",
    "        for k, v in sorted(\n",
    "            entropies.items(),\n",
    "            key=lambda item: item[1],\n",
    "            reverse=True,\n",
    "        )\n",
    "    }\n",
    "\n",
    "    guess = list(entropies.items())[0][0]\n",
    "    return guess"
   ]
  },
  {
   "cell_type": "code",
   "execution_count": 4,
   "metadata": {},
   "outputs": [
    {
     "data": {
      "text/plain": [
       "['name',\n",
       " 'gender',\n",
       " 'position',\n",
       " 'species',\n",
       " 'resource',\n",
       " 'range',\n",
       " 'region',\n",
       " 'release']"
      ]
     },
     "execution_count": 4,
     "metadata": {},
     "output_type": "execute_result"
    }
   ],
   "source": [
    "solver.df.columns"
   ]
  },
  {
   "cell_type": "code",
   "execution_count": 5,
   "metadata": {},
   "outputs": [
    {
     "data": {
      "application/vnd.jupyter.widget-view+json": {
       "model_id": "5bca200289f94efc9bff9583b1cd0427",
       "version_major": 2,
       "version_minor": 0
      },
      "text/plain": [
       "  0%|          | 0/166 [00:00<?, ?it/s]"
      ]
     },
     "metadata": {},
     "output_type": "display_data"
    },
    {
     "data": {
      "text/plain": [
       "'Xin Zhao'"
      ]
     },
     "execution_count": 5,
     "metadata": {},
     "output_type": "execute_result"
    }
   ],
   "source": [
    "guess = get_best_guess()\n",
    "guess"
   ]
  },
  {
   "cell_type": "code",
   "execution_count": 6,
   "metadata": {},
   "outputs": [
    {
     "data": {
      "application/vnd.jupyter.widget-view+json": {
       "model_id": "d12f3489adfc4abd9b200ba0ac88f604",
       "version_major": 2,
       "version_minor": 0
      },
      "text/plain": [
       "  0%|          | 0/6 [00:00<?, ?it/s]"
      ]
     },
     "metadata": {},
     "output_type": "display_data"
    },
    {
     "data": {
      "text/plain": [
       "'Illaoi'"
      ]
     },
     "execution_count": 6,
     "metadata": {},
     "output_type": "execute_result"
    }
   ],
   "source": [
    "solver.update_df_with_guess(guess, [0, 0, 0.5, 1, 1, 0, 1])\n",
    "guess = get_best_guess()\n",
    "guess"
   ]
  },
  {
   "cell_type": "code",
   "execution_count": 7,
   "metadata": {},
   "outputs": [
    {
     "data": {
      "application/vnd.jupyter.widget-view+json": {
       "model_id": "5b076bc9aae64a95a74c49d222827c45",
       "version_major": 2,
       "version_minor": 0
      },
      "text/plain": [
       "  0%|          | 0/1 [00:00<?, ?it/s]"
      ]
     },
     "metadata": {},
     "output_type": "display_data"
    },
    {
     "data": {
      "text/plain": [
       "'Nilah'"
      ]
     },
     "execution_count": 7,
     "metadata": {},
     "output_type": "execute_result"
    }
   ],
   "source": [
    "solver.update_df_with_guess(guess, [1, 0, 0.5, 1, 1, 1, 1])\n",
    "guess = get_best_guess()\n",
    "guess"
   ]
  },
  {
   "cell_type": "code",
   "execution_count": 8,
   "metadata": {},
   "outputs": [
    {
     "data": {
      "text/html": [
       "<div><style>\n",
       ".dataframe > thead > tr,\n",
       ".dataframe > tbody > tr {\n",
       "  text-align: right;\n",
       "  white-space: pre-wrap;\n",
       "}\n",
       "</style>\n",
       "<small>shape: (1, 8)</small><table border=\"1\" class=\"dataframe\"><thead><tr><th>name</th><th>gender</th><th>position</th><th>species</th><th>resource</th><th>range</th><th>region</th><th>release</th></tr><tr><td>str</td><td>str</td><td>list[str]</td><td>list[str]</td><td>str</td><td>list[str]</td><td>list[str]</td><td>i64</td></tr></thead><tbody><tr><td>&quot;Nilah&quot;</td><td>&quot;Female&quot;</td><td>[&quot;Bottom&quot;]</td><td>[&quot;Human&quot;, &quot;Magically Altered&quot;]</td><td>&quot;Mana&quot;</td><td>[&quot;Melee&quot;]</td><td>[&quot;Bilgewater&quot;]</td><td>2022</td></tr></tbody></table></div>"
      ],
      "text/plain": [
       "shape: (1, 8)\n",
       "┌───────┬────────┬────────────┬────────────┬──────────┬───────────┬────────────────┬─────────┐\n",
       "│ name  ┆ gender ┆ position   ┆ species    ┆ resource ┆ range     ┆ region         ┆ release │\n",
       "│ ---   ┆ ---    ┆ ---        ┆ ---        ┆ ---      ┆ ---       ┆ ---            ┆ ---     │\n",
       "│ str   ┆ str    ┆ list[str]  ┆ list[str]  ┆ str      ┆ list[str] ┆ list[str]      ┆ i64     │\n",
       "╞═══════╪════════╪════════════╪════════════╪══════════╪═══════════╪════════════════╪═════════╡\n",
       "│ Nilah ┆ Female ┆ [\"Bottom\"] ┆ [\"Human\",  ┆ Mana     ┆ [\"Melee\"] ┆ [\"Bilgewater\"] ┆ 2022    │\n",
       "│       ┆        ┆            ┆ \"Magically ┆          ┆           ┆                ┆         │\n",
       "│       ┆        ┆            ┆ Altered\"]  ┆          ┆           ┆                ┆         │\n",
       "└───────┴────────┴────────────┴────────────┴──────────┴───────────┴────────────────┴─────────┘"
      ]
     },
     "execution_count": 8,
     "metadata": {},
     "output_type": "execute_result"
    }
   ],
   "source": [
    "solver.df"
   ]
  }
 ],
 "metadata": {
  "kernelspec": {
   "display_name": "loldle-solver-LB2b-er5-py3.11",
   "language": "python",
   "name": "python3"
  },
  "language_info": {
   "codemirror_mode": {
    "name": "ipython",
    "version": 3
   },
   "file_extension": ".py",
   "mimetype": "text/x-python",
   "name": "python",
   "nbconvert_exporter": "python",
   "pygments_lexer": "ipython3",
   "version": "3.11.5"
  }
 },
 "nbformat": 4,
 "nbformat_minor": 2
}
